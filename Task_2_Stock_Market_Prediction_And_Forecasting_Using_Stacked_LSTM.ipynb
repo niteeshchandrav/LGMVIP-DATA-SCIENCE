{
  "nbformat": 4,
  "nbformat_minor": 0,
  "metadata": {
    "kernelspec": {
      "display_name": "Python 3",
      "language": "python",
      "name": "python3"
    },
    "language_info": {
      "codemirror_mode": {
        "name": "ipython",
        "version": 3
      },
      "file_extension": ".py",
      "mimetype": "text/x-python",
      "name": "python",
      "nbconvert_exporter": "python",
      "pygments_lexer": "ipython3",
      "version": "3.9.2"
    },
    "colab": {
      "name": "Task-2 Stock Market Prediction And Forecasting Using Stacked LSTM.ipynb",
      "provenance": [],
      "include_colab_link": true
    }
  },
  "cells": [
    {
      "cell_type": "markdown",
      "metadata": {
        "id": "view-in-github",
        "colab_type": "text"
      },
      "source": [
        "<a href=\"https://colab.research.google.com/github/niteeshchandrav/LGMVIP-DATA-SCIENCE/blob/main/Task_2_Stock_Market_Prediction_And_Forecasting_Using_Stacked_LSTM.ipynb\" target=\"_parent\"><img src=\"https://colab.research.google.com/assets/colab-badge.svg\" alt=\"Open In Colab\"/></a>"
      ]
    },
    {
      "cell_type": "markdown",
      "metadata": {
        "id": "3UwQEm4pTtWi"
      },
      "source": [
        "## TASK-2 Stock Market Prediction And Forecasting Using Stacked LSTM"
      ]
    },
    {
      "cell_type": "markdown",
      "metadata": {
        "id": "CokAyJucTtWl"
      },
      "source": [
        "### Import the necessary libraries "
      ]
    },
    {
      "cell_type": "code",
      "metadata": {
        "id": "bPExD_LITtWl"
      },
      "source": [
        "import numpy as np\n",
        "import matplotlib.pyplot as plt\n",
        "import pandas as pd"
      ],
      "execution_count": 2,
      "outputs": []
    },
    {
      "cell_type": "code",
      "metadata": {
        "id": "sxQ9xhR2TtWn"
      },
      "source": [
        "url = 'https://raw.githubusercontent.com/mwitiderrick/stockprice/master/NSE-TATAGLOBAL.csv'\n",
        "dataset_train = pd.read_csv(url)\n",
        "training_set = dataset_train.iloc[:,1:2].values"
      ],
      "execution_count": 3,
      "outputs": []
    },
    {
      "cell_type": "code",
      "metadata": {
        "colab": {
          "base_uri": "https://localhost:8080/",
          "height": 206
        },
        "id": "4ltDqf_zTtWn",
        "outputId": "73988bc8-ab36-42b9-cba0-309a43de2b86"
      },
      "source": [
        "dataset_train.head()"
      ],
      "execution_count": 4,
      "outputs": [
        {
          "output_type": "execute_result",
          "data": {
            "text/html": [
              "<div>\n",
              "<style scoped>\n",
              "    .dataframe tbody tr th:only-of-type {\n",
              "        vertical-align: middle;\n",
              "    }\n",
              "\n",
              "    .dataframe tbody tr th {\n",
              "        vertical-align: top;\n",
              "    }\n",
              "\n",
              "    .dataframe thead th {\n",
              "        text-align: right;\n",
              "    }\n",
              "</style>\n",
              "<table border=\"1\" class=\"dataframe\">\n",
              "  <thead>\n",
              "    <tr style=\"text-align: right;\">\n",
              "      <th></th>\n",
              "      <th>Date</th>\n",
              "      <th>Open</th>\n",
              "      <th>High</th>\n",
              "      <th>Low</th>\n",
              "      <th>Last</th>\n",
              "      <th>Close</th>\n",
              "      <th>Total Trade Quantity</th>\n",
              "      <th>Turnover (Lacs)</th>\n",
              "    </tr>\n",
              "  </thead>\n",
              "  <tbody>\n",
              "    <tr>\n",
              "      <th>0</th>\n",
              "      <td>2018-09-28</td>\n",
              "      <td>234.05</td>\n",
              "      <td>235.95</td>\n",
              "      <td>230.20</td>\n",
              "      <td>233.50</td>\n",
              "      <td>233.75</td>\n",
              "      <td>3069914</td>\n",
              "      <td>7162.35</td>\n",
              "    </tr>\n",
              "    <tr>\n",
              "      <th>1</th>\n",
              "      <td>2018-09-27</td>\n",
              "      <td>234.55</td>\n",
              "      <td>236.80</td>\n",
              "      <td>231.10</td>\n",
              "      <td>233.80</td>\n",
              "      <td>233.25</td>\n",
              "      <td>5082859</td>\n",
              "      <td>11859.95</td>\n",
              "    </tr>\n",
              "    <tr>\n",
              "      <th>2</th>\n",
              "      <td>2018-09-26</td>\n",
              "      <td>240.00</td>\n",
              "      <td>240.00</td>\n",
              "      <td>232.50</td>\n",
              "      <td>235.00</td>\n",
              "      <td>234.25</td>\n",
              "      <td>2240909</td>\n",
              "      <td>5248.60</td>\n",
              "    </tr>\n",
              "    <tr>\n",
              "      <th>3</th>\n",
              "      <td>2018-09-25</td>\n",
              "      <td>233.30</td>\n",
              "      <td>236.75</td>\n",
              "      <td>232.00</td>\n",
              "      <td>236.25</td>\n",
              "      <td>236.10</td>\n",
              "      <td>2349368</td>\n",
              "      <td>5503.90</td>\n",
              "    </tr>\n",
              "    <tr>\n",
              "      <th>4</th>\n",
              "      <td>2018-09-24</td>\n",
              "      <td>233.55</td>\n",
              "      <td>239.20</td>\n",
              "      <td>230.75</td>\n",
              "      <td>234.00</td>\n",
              "      <td>233.30</td>\n",
              "      <td>3423509</td>\n",
              "      <td>7999.55</td>\n",
              "    </tr>\n",
              "  </tbody>\n",
              "</table>\n",
              "</div>"
            ],
            "text/plain": [
              "         Date    Open    High  ...   Close  Total Trade Quantity  Turnover (Lacs)\n",
              "0  2018-09-28  234.05  235.95  ...  233.75               3069914          7162.35\n",
              "1  2018-09-27  234.55  236.80  ...  233.25               5082859         11859.95\n",
              "2  2018-09-26  240.00  240.00  ...  234.25               2240909          5248.60\n",
              "3  2018-09-25  233.30  236.75  ...  236.10               2349368          5503.90\n",
              "4  2018-09-24  233.55  239.20  ...  233.30               3423509          7999.55\n",
              "\n",
              "[5 rows x 8 columns]"
            ]
          },
          "metadata": {},
          "execution_count": 4
        }
      ]
    },
    {
      "cell_type": "code",
      "metadata": {
        "id": "xZEczEbnTtWp"
      },
      "source": [
        "data_close = dataset_train['Close']"
      ],
      "execution_count": 5,
      "outputs": []
    },
    {
      "cell_type": "code",
      "metadata": {
        "colab": {
          "base_uri": "https://localhost:8080/"
        },
        "id": "mYBERL9uTtWp",
        "outputId": "f1ee5cf5-0a4e-490c-b15c-97b7ddbc6ec5"
      },
      "source": [
        "data_close"
      ],
      "execution_count": 6,
      "outputs": [
        {
          "output_type": "execute_result",
          "data": {
            "text/plain": [
              "0       233.75\n",
              "1       233.25\n",
              "2       234.25\n",
              "3       236.10\n",
              "4       233.30\n",
              "         ...  \n",
              "2030    118.65\n",
              "2031    117.60\n",
              "2032    120.65\n",
              "2033    120.90\n",
              "2034    121.55\n",
              "Name: Close, Length: 2035, dtype: float64"
            ]
          },
          "metadata": {},
          "execution_count": 6
        }
      ]
    },
    {
      "cell_type": "code",
      "metadata": {
        "colab": {
          "base_uri": "https://localhost:8080/",
          "height": 282
        },
        "id": "4IvWqSWhTtWp",
        "outputId": "74ee6ec0-05d9-43c8-f058-cc1c5a72d27f"
      },
      "source": [
        "plt.plot(data_close)"
      ],
      "execution_count": 7,
      "outputs": [
        {
          "output_type": "execute_result",
          "data": {
            "text/plain": [
              "[<matplotlib.lines.Line2D at 0x7f4b3a0b3f90>]"
            ]
          },
          "metadata": {},
          "execution_count": 7
        },
        {
          "output_type": "display_data",
          "data": {
            "image/png": "[encoded data removed]",
            "text/plain": [
              "<Figure size 432x288 with 1 Axes>"
            ]
          },
          "metadata": {
            "needs_background": "light"
          }
        }
      ]
    },
    {
      "cell_type": "markdown",
      "metadata": {
        "id": "WsAep7MaTtWq"
      },
      "source": [
        "###### Since LSTM are sensitive to the scale of the data, so we apply MinMax Scaler to transfer our values between 0 and 1"
      ]
    },
    {
      "cell_type": "markdown",
      "metadata": {
        "id": "xbt5fiFXTtWq"
      },
      "source": [
        "### Data Normalization"
      ]
    },
    {
      "cell_type": "code",
      "metadata": {
        "id": "-bTYFLT6TtWq"
      },
      "source": [
        "from sklearn.preprocessing import MinMaxScaler\n",
        "scaler = MinMaxScaler(feature_range = (0,1))\n",
        "data_close = scaler.fit_transform(np.array(data_close).reshape(-1,1))"
      ],
      "execution_count": 8,
      "outputs": []
    },
    {
      "cell_type": "code",
      "metadata": {
        "colab": {
          "base_uri": "https://localhost:8080/"
        },
        "id": "dBE6XyULTtWr",
        "outputId": "cbcada4b-d21e-4dfc-e015-cd038b6f6de5"
      },
      "source": [
        "data_close.shape"
      ],
      "execution_count": 9,
      "outputs": [
        {
          "output_type": "execute_result",
          "data": {
            "text/plain": [
              "(2035, 1)"
            ]
          },
          "metadata": {},
          "execution_count": 9
        }
      ]
    },
    {
      "cell_type": "code",
      "metadata": {
        "colab": {
          "base_uri": "https://localhost:8080/"
        },
        "id": "3icIhCYkTtWr",
        "outputId": "279de294-ad04-4797-b149-732e63d47b51"
      },
      "source": [
        "print(data_close)"
      ],
      "execution_count": 10,
      "outputs": [
        {
          "output_type": "stream",
          "name": "stdout",
          "text": [
            "[[0.62418301]\n",
            " [0.62214052]\n",
            " [0.62622549]\n",
            " ...\n",
            " [0.1621732 ]\n",
            " [0.16319444]\n",
            " [0.16584967]]\n"
          ]
        }
      ]
    },
    {
      "cell_type": "markdown",
      "metadata": {
        "id": "gR2YUuXXTtWr"
      },
      "source": [
        "### Train and Test Split "
      ]
    },
    {
      "cell_type": "code",
      "metadata": {
        "id": "-I9ec6FnTtWr"
      },
      "source": [
        "training_size = int(len(data_close) * 0.75)\n",
        "test_size = len(data_close) - training_size\n",
        "train_data, test_data = data_close[0:training_size,:], data_close[training_size:len(data_close),:1]"
      ],
      "execution_count": 11,
      "outputs": []
    },
    {
      "cell_type": "code",
      "metadata": {
        "id": "sD4qMk2cTtWs"
      },
      "source": [
        "def create_dataset(dataset, time_step = 1):\n",
        "    dataX, dataY = [], []\n",
        "    for i in range(len(dataset) - time_step - 1):\n",
        "        a = dataset[i:(i+time_step),0]\n",
        "        dataX.append(a)\n",
        "        dataY.append(dataset[i+time_step,0])\n",
        "    return np.array(dataX), np.array(dataY)"
      ],
      "execution_count": 12,
      "outputs": []
    },
    {
      "cell_type": "code",
      "metadata": {
        "id": "wYfxdLOUTtWs"
      },
      "source": [
        "time_step = 100\n",
        "x_train, y_train = create_dataset(train_data, time_step)\n",
        "x_test, y_test = create_dataset(test_data, time_step)"
      ],
      "execution_count": 13,
      "outputs": []
    },
    {
      "cell_type": "code",
      "metadata": {
        "id": "j0liJsTRTtWs"
      },
      "source": [
        "#Reshape the input to be [samples, time steps, features] which is the requirement of LSTM\n",
        "x_train = x_train.reshape(x_train.shape[0], x_train.shape[1], 1)\n",
        "x_test = x_test.reshape(x_test.shape[0],x_test.shape[1], 1)"
      ],
      "execution_count": 14,
      "outputs": []
    },
    {
      "cell_type": "code",
      "metadata": {
        "id": "trWP8LOrTtWt"
      },
      "source": [
        "#create the LSTM Model\n",
        "from keras.models import Sequential\n",
        "from keras.layers import LSTM\n",
        "from keras.layers import Dropout\n",
        "from keras.layers import Dense\n",
        "model = Sequential()\n",
        "model.add(LSTM(50, return_sequences = True, input_shape = (100, 1)))\n",
        "model.add(LSTM(50, return_sequences = True))\n",
        "model.add(LSTM(50))\n",
        "model.add(Dense(1))\n",
        "model.compile(loss = 'mean_squared_error', optimizer = 'adam')"
      ],
      "execution_count": 15,
      "outputs": []
    },
    {
      "cell_type": "code",
      "metadata": {
        "colab": {
          "base_uri": "https://localhost:8080/"
        },
        "id": "6UuSumNkTtWt",
        "outputId": "3064cf90-c696-43ce-984d-f1bd7385a2a8"
      },
      "source": [
        "model.summary()"
      ],
      "execution_count": 16,
      "outputs": [
        {
          "output_type": "stream",
          "name": "stdout",
          "text": [
            "Model: \"sequential\"\n",
            "_________________________________________________________________\n",
            " Layer (type)                Output Shape              Param #   \n",
            "=================================================================\n",
            " lstm (LSTM)                 (None, 100, 50)           10400     \n",
            "                                                                 \n",
            " lstm_1 (LSTM)               (None, 100, 50)           20200     \n",
            "                                                                 \n",
            " lstm_2 (LSTM)               (None, 50)                20200     \n",
            "                                                                 \n",
            " dense (Dense)               (None, 1)                 51        \n",
            "                                                                 \n",
            "=================================================================\n",
            "Total params: 50,851\n",
            "Trainable params: 50,851\n",
            "Non-trainable params: 0\n",
            "_________________________________________________________________\n"
          ]
        }
      ]
    },
    {
      "cell_type": "code",
      "metadata": {
        "colab": {
          "base_uri": "https://localhost:8080/"
        },
        "id": "zWiBqy1uTtWu",
        "outputId": "aaf455e6-02de-4862-a66e-f9830140744c"
      },
      "source": [
        "model.fit(x_train, y_train, validation_data = (x_test, y_test), epochs=100, batch_size=64, verbose=1)"
      ],
      "execution_count": 17,
      "outputs": [
        {
          "output_type": "stream",
          "name": "stdout",
          "text": [
            "Epoch 1/100\n",
            "23/23 [==============================] - 10s 225ms/step - loss: 0.0239 - val_loss: 0.0090\n",
            "Epoch 2/100\n",
            "23/23 [==============================] - 4s 171ms/step - loss: 0.0028 - val_loss: 9.3521e-04\n",
            "Epoch 3/100\n",
            "23/23 [==============================] - 4s 168ms/step - loss: 0.0017 - val_loss: 0.0021\n",
            "Epoch 4/100\n",
            "23/23 [==============================] - 4s 170ms/step - loss: 0.0016 - val_loss: 0.0015\n",
            "Epoch 5/100\n",
            "23/23 [==============================] - 4s 166ms/step - loss: 0.0015 - val_loss: 0.0017\n",
            "Epoch 6/100\n",
            "23/23 [==============================] - 4s 167ms/step - loss: 0.0014 - val_loss: 0.0016\n",
            "Epoch 7/100\n",
            "23/23 [==============================] - 4s 170ms/step - loss: 0.0013 - val_loss: 0.0012\n",
            "Epoch 8/100\n",
            "23/23 [==============================] - 4s 168ms/step - loss: 0.0013 - val_loss: 0.0014\n",
            "Epoch 9/100\n",
            "23/23 [==============================] - 4s 168ms/step - loss: 0.0012 - val_loss: 0.0010\n",
            "Epoch 10/100\n",
            "23/23 [==============================] - 4s 166ms/step - loss: 0.0012 - val_loss: 0.0011\n",
            "Epoch 11/100\n",
            "23/23 [==============================] - 4s 168ms/step - loss: 0.0011 - val_loss: 9.1357e-04\n",
            "Epoch 12/100\n",
            "23/23 [==============================] - 4s 169ms/step - loss: 0.0011 - val_loss: 9.7684e-04\n",
            "Epoch 13/100\n",
            "23/23 [==============================] - 4s 166ms/step - loss: 0.0011 - val_loss: 9.6389e-04\n",
            "Epoch 14/100\n",
            "23/23 [==============================] - 4s 169ms/step - loss: 9.7398e-04 - val_loss: 8.4584e-04\n",
            "Epoch 15/100\n",
            "23/23 [==============================] - 4s 170ms/step - loss: 9.4556e-04 - val_loss: 9.5642e-04\n",
            "Epoch 16/100\n",
            "23/23 [==============================] - 4s 173ms/step - loss: 0.0011 - val_loss: 8.7322e-04\n",
            "Epoch 17/100\n",
            "23/23 [==============================] - 4s 168ms/step - loss: 8.8865e-04 - val_loss: 9.5143e-04\n",
            "Epoch 18/100\n",
            "23/23 [==============================] - 4s 166ms/step - loss: 9.0366e-04 - val_loss: 7.2244e-04\n",
            "Epoch 19/100\n",
            "23/23 [==============================] - 4s 176ms/step - loss: 8.6100e-04 - val_loss: 6.3416e-04\n",
            "Epoch 20/100\n",
            "23/23 [==============================] - 4s 169ms/step - loss: 8.0139e-04 - val_loss: 9.1443e-04\n",
            "Epoch 21/100\n",
            "23/23 [==============================] - 4s 177ms/step - loss: 7.9173e-04 - val_loss: 0.0011\n",
            "Epoch 22/100\n",
            "23/23 [==============================] - 4s 167ms/step - loss: 7.2376e-04 - val_loss: 7.4604e-04\n",
            "Epoch 23/100\n",
            "23/23 [==============================] - 4s 173ms/step - loss: 7.0408e-04 - val_loss: 8.1684e-04\n",
            "Epoch 24/100\n",
            "23/23 [==============================] - 4s 173ms/step - loss: 6.6808e-04 - val_loss: 5.7404e-04\n",
            "Epoch 25/100\n",
            "23/23 [==============================] - 4s 174ms/step - loss: 7.4938e-04 - val_loss: 8.4993e-04\n",
            "Epoch 26/100\n",
            "23/23 [==============================] - 4s 171ms/step - loss: 7.7920e-04 - val_loss: 8.1433e-04\n",
            "Epoch 27/100\n",
            "23/23 [==============================] - 4s 171ms/step - loss: 7.0406e-04 - val_loss: 6.5889e-04\n",
            "Epoch 28/100\n",
            "23/23 [==============================] - 4s 166ms/step - loss: 6.5483e-04 - val_loss: 6.4767e-04\n",
            "Epoch 29/100\n",
            "23/23 [==============================] - 4s 171ms/step - loss: 8.0824e-04 - val_loss: 9.8607e-04\n",
            "Epoch 30/100\n",
            "23/23 [==============================] - 4s 175ms/step - loss: 5.8396e-04 - val_loss: 6.4365e-04\n",
            "Epoch 31/100\n",
            "23/23 [==============================] - 4s 170ms/step - loss: 5.4597e-04 - val_loss: 6.6432e-04\n",
            "Epoch 32/100\n",
            "23/23 [==============================] - 4s 172ms/step - loss: 5.3433e-04 - val_loss: 8.9231e-04\n",
            "Epoch 33/100\n",
            "23/23 [==============================] - 4s 175ms/step - loss: 5.3158e-04 - val_loss: 7.2573e-04\n",
            "Epoch 34/100\n",
            "23/23 [==============================] - 4s 168ms/step - loss: 5.2860e-04 - val_loss: 7.0567e-04\n",
            "Epoch 35/100\n",
            "23/23 [==============================] - 4s 178ms/step - loss: 5.3009e-04 - val_loss: 5.3523e-04\n",
            "Epoch 36/100\n",
            "23/23 [==============================] - 4s 167ms/step - loss: 4.5545e-04 - val_loss: 5.5008e-04\n",
            "Epoch 37/100\n",
            "23/23 [==============================] - 4s 172ms/step - loss: 4.3829e-04 - val_loss: 4.6884e-04\n",
            "Epoch 38/100\n",
            "23/23 [==============================] - 4s 177ms/step - loss: 4.4573e-04 - val_loss: 3.6134e-04\n",
            "Epoch 39/100\n",
            "23/23 [==============================] - 4s 172ms/step - loss: 6.0933e-04 - val_loss: 4.2541e-04\n",
            "Epoch 40/100\n",
            "23/23 [==============================] - 4s 169ms/step - loss: 5.3565e-04 - val_loss: 4.3811e-04\n",
            "Epoch 41/100\n",
            "23/23 [==============================] - 4s 170ms/step - loss: 4.8935e-04 - val_loss: 5.5004e-04\n",
            "Epoch 42/100\n",
            "23/23 [==============================] - 4s 172ms/step - loss: 4.1381e-04 - val_loss: 4.7679e-04\n",
            "Epoch 43/100\n",
            "23/23 [==============================] - 4s 165ms/step - loss: 3.7623e-04 - val_loss: 4.2742e-04\n",
            "Epoch 44/100\n",
            "23/23 [==============================] - 4s 179ms/step - loss: 3.7088e-04 - val_loss: 3.8152e-04\n",
            "Epoch 45/100\n",
            "23/23 [==============================] - 4s 174ms/step - loss: 3.5493e-04 - val_loss: 4.5683e-04\n",
            "Epoch 46/100\n",
            "23/23 [==============================] - 4s 170ms/step - loss: 3.4190e-04 - val_loss: 3.8649e-04\n",
            "Epoch 47/100\n",
            "23/23 [==============================] - 4s 171ms/step - loss: 3.3868e-04 - val_loss: 4.2503e-04\n",
            "Epoch 48/100\n",
            "23/23 [==============================] - 4s 174ms/step - loss: 3.3124e-04 - val_loss: 3.7801e-04\n",
            "Epoch 49/100\n",
            "23/23 [==============================] - 4s 167ms/step - loss: 3.2508e-04 - val_loss: 2.9366e-04\n",
            "Epoch 50/100\n",
            "23/23 [==============================] - 4s 174ms/step - loss: 3.4128e-04 - val_loss: 4.1284e-04\n",
            "Epoch 51/100\n",
            "23/23 [==============================] - 4s 168ms/step - loss: 3.5334e-04 - val_loss: 3.7686e-04\n",
            "Epoch 52/100\n",
            "23/23 [==============================] - 4s 169ms/step - loss: 3.0378e-04 - val_loss: 3.0742e-04\n",
            "Epoch 53/100\n",
            "23/23 [==============================] - 4s 179ms/step - loss: 3.2952e-04 - val_loss: 3.1143e-04\n",
            "Epoch 54/100\n",
            "23/23 [==============================] - 4s 170ms/step - loss: 3.1983e-04 - val_loss: 3.0972e-04\n",
            "Epoch 55/100\n",
            "23/23 [==============================] - 4s 167ms/step - loss: 3.1094e-04 - val_loss: 2.8069e-04\n",
            "Epoch 56/100\n",
            "23/23 [==============================] - 4s 170ms/step - loss: 2.7859e-04 - val_loss: 2.6801e-04\n",
            "Epoch 57/100\n",
            "23/23 [==============================] - 4s 167ms/step - loss: 2.9444e-04 - val_loss: 3.1095e-04\n",
            "Epoch 58/100\n",
            "23/23 [==============================] - 4s 169ms/step - loss: 3.5504e-04 - val_loss: 3.6346e-04\n",
            "Epoch 59/100\n",
            "23/23 [==============================] - 4s 173ms/step - loss: 2.9648e-04 - val_loss: 3.8261e-04\n",
            "Epoch 60/100\n",
            "23/23 [==============================] - 4s 172ms/step - loss: 2.9553e-04 - val_loss: 3.0578e-04\n",
            "Epoch 61/100\n",
            "23/23 [==============================] - 4s 170ms/step - loss: 2.8998e-04 - val_loss: 3.0497e-04\n",
            "Epoch 62/100\n",
            "23/23 [==============================] - 4s 170ms/step - loss: 2.8595e-04 - val_loss: 2.5630e-04\n",
            "Epoch 63/100\n",
            "23/23 [==============================] - 4s 173ms/step - loss: 2.5419e-04 - val_loss: 2.0951e-04\n",
            "Epoch 64/100\n",
            "23/23 [==============================] - 4s 168ms/step - loss: 2.5790e-04 - val_loss: 2.2715e-04\n",
            "Epoch 65/100\n",
            "23/23 [==============================] - 4s 168ms/step - loss: 2.4917e-04 - val_loss: 2.5298e-04\n",
            "Epoch 66/100\n",
            "23/23 [==============================] - 4s 173ms/step - loss: 2.4009e-04 - val_loss: 2.6364e-04\n",
            "Epoch 67/100\n",
            "23/23 [==============================] - 4s 170ms/step - loss: 2.3916e-04 - val_loss: 2.2468e-04\n",
            "Epoch 68/100\n",
            "23/23 [==============================] - 4s 174ms/step - loss: 2.7698e-04 - val_loss: 3.0964e-04\n",
            "Epoch 69/100\n",
            "23/23 [==============================] - 4s 168ms/step - loss: 2.9703e-04 - val_loss: 2.0995e-04\n",
            "Epoch 70/100\n",
            "23/23 [==============================] - 4s 169ms/step - loss: 2.7584e-04 - val_loss: 1.8589e-04\n",
            "Epoch 71/100\n",
            "23/23 [==============================] - 4s 168ms/step - loss: 2.5830e-04 - val_loss: 2.1507e-04\n",
            "Epoch 72/100\n",
            "23/23 [==============================] - 4s 181ms/step - loss: 2.4692e-04 - val_loss: 3.2951e-04\n",
            "Epoch 73/100\n",
            "23/23 [==============================] - 4s 175ms/step - loss: 2.5062e-04 - val_loss: 2.0434e-04\n",
            "Epoch 74/100\n",
            "23/23 [==============================] - 4s 169ms/step - loss: 2.2687e-04 - val_loss: 2.3060e-04\n",
            "Epoch 75/100\n",
            "23/23 [==============================] - 4s 176ms/step - loss: 2.4003e-04 - val_loss: 1.9003e-04\n",
            "Epoch 76/100\n",
            "23/23 [==============================] - 4s 169ms/step - loss: 2.4743e-04 - val_loss: 2.8066e-04\n",
            "Epoch 77/100\n",
            "23/23 [==============================] - 4s 167ms/step - loss: 2.4603e-04 - val_loss: 2.0387e-04\n",
            "Epoch 78/100\n",
            "23/23 [==============================] - 4s 169ms/step - loss: 2.3763e-04 - val_loss: 1.7121e-04\n",
            "Epoch 79/100\n",
            "23/23 [==============================] - 4s 170ms/step - loss: 2.2906e-04 - val_loss: 1.6168e-04\n",
            "Epoch 80/100\n",
            "23/23 [==============================] - 4s 169ms/step - loss: 2.3078e-04 - val_loss: 1.8931e-04\n",
            "Epoch 81/100\n",
            "23/23 [==============================] - 4s 168ms/step - loss: 2.1457e-04 - val_loss: 2.0721e-04\n",
            "Epoch 82/100\n",
            "23/23 [==============================] - 4s 168ms/step - loss: 2.1166e-04 - val_loss: 1.7818e-04\n",
            "Epoch 83/100\n",
            "23/23 [==============================] - 4s 170ms/step - loss: 2.7479e-04 - val_loss: 1.8369e-04\n",
            "Epoch 84/100\n",
            "23/23 [==============================] - 4s 169ms/step - loss: 2.4569e-04 - val_loss: 2.7481e-04\n",
            "Epoch 85/100\n",
            "23/23 [==============================] - 4s 167ms/step - loss: 2.3138e-04 - val_loss: 1.8731e-04\n",
            "Epoch 86/100\n",
            "23/23 [==============================] - 4s 175ms/step - loss: 2.1486e-04 - val_loss: 1.7926e-04\n",
            "Epoch 87/100\n",
            "23/23 [==============================] - 4s 172ms/step - loss: 2.4321e-04 - val_loss: 1.6003e-04\n",
            "Epoch 88/100\n",
            "23/23 [==============================] - 4s 172ms/step - loss: 2.3198e-04 - val_loss: 2.3606e-04\n",
            "Epoch 89/100\n",
            "23/23 [==============================] - 4s 171ms/step - loss: 2.6581e-04 - val_loss: 1.4989e-04\n",
            "Epoch 90/100\n",
            "23/23 [==============================] - 4s 173ms/step - loss: 2.2013e-04 - val_loss: 1.5883e-04\n",
            "Epoch 91/100\n",
            "23/23 [==============================] - 4s 170ms/step - loss: 2.0577e-04 - val_loss: 1.4403e-04\n",
            "Epoch 92/100\n",
            "23/23 [==============================] - 4s 174ms/step - loss: 2.2697e-04 - val_loss: 1.7292e-04\n",
            "Epoch 93/100\n",
            "23/23 [==============================] - 4s 175ms/step - loss: 2.0763e-04 - val_loss: 1.6172e-04\n",
            "Epoch 94/100\n",
            "23/23 [==============================] - 4s 174ms/step - loss: 2.2932e-04 - val_loss: 1.6497e-04\n",
            "Epoch 95/100\n",
            "23/23 [==============================] - 4s 169ms/step - loss: 2.2435e-04 - val_loss: 1.5986e-04\n",
            "Epoch 96/100\n",
            "23/23 [==============================] - 4s 168ms/step - loss: 2.1449e-04 - val_loss: 1.7403e-04\n",
            "Epoch 97/100\n",
            "23/23 [==============================] - 4s 168ms/step - loss: 2.0470e-04 - val_loss: 1.5392e-04\n",
            "Epoch 98/100\n",
            "23/23 [==============================] - 4s 172ms/step - loss: 2.0165e-04 - val_loss: 1.4252e-04\n",
            "Epoch 99/100\n",
            "23/23 [==============================] - 4s 169ms/step - loss: 2.0281e-04 - val_loss: 1.8922e-04\n",
            "Epoch 100/100\n",
            "23/23 [==============================] - 4s 172ms/step - loss: 1.9214e-04 - val_loss: 1.9206e-04\n"
          ]
        },
        {
          "output_type": "execute_result",
          "data": {
            "text/plain": [
              "<keras.callbacks.History at 0x7f4ac472f090>"
            ]
          },
          "metadata": {},
          "execution_count": 17
        }
      ]
    },
    {
      "cell_type": "code",
      "metadata": {
        "id": "1Jbp8su_TtWu"
      },
      "source": [
        "#Lets predict and check performance metrics\n",
        "train_predict = model.predict(x_train)\n",
        "test_predict = model.predict(x_test)"
      ],
      "execution_count": 18,
      "outputs": []
    },
    {
      "cell_type": "code",
      "metadata": {
        "id": "ky95mWQ6TtWv"
      },
      "source": [
        "#Transform back to original form\n",
        "train_predict = scaler.inverse_transform(train_predict)\n",
        "test_predict = scaler.inverse_transform(test_predict)"
      ],
      "execution_count": 19,
      "outputs": []
    },
    {
      "cell_type": "code",
      "metadata": {
        "colab": {
          "base_uri": "https://localhost:8080/"
        },
        "id": "K481P8TtTtWv",
        "outputId": "85ea26a4-8431-414d-be4d-57486472c260"
      },
      "source": [
        "#Calculate RMSE performance metrics\n",
        "import math\n",
        "from sklearn.metrics import mean_squared_error\n",
        "math.sqrt(mean_squared_error(y_train, train_predict))"
      ],
      "execution_count": 20,
      "outputs": [
        {
          "output_type": "execute_result",
          "data": {
            "text/plain": [
              "163.56052332020334"
            ]
          },
          "metadata": {},
          "execution_count": 20
        }
      ]
    },
    {
      "cell_type": "code",
      "metadata": {
        "colab": {
          "base_uri": "https://localhost:8080/"
        },
        "id": "24vx8Jz3TtWw",
        "outputId": "aa07edf2-964a-42c6-fde9-3465f43cbfa0"
      },
      "source": [
        "#Test Data RMSE\n",
        "math.sqrt(mean_squared_error(y_test, test_predict))"
      ],
      "execution_count": 21,
      "outputs": [
        {
          "output_type": "execute_result",
          "data": {
            "text/plain": [
              "106.14451777671103"
            ]
          },
          "metadata": {},
          "execution_count": 21
        }
      ]
    },
    {
      "cell_type": "code",
      "metadata": {
        "colab": {
          "base_uri": "https://localhost:8080/",
          "height": 265
        },
        "id": "VgiXDweoTtWw",
        "outputId": "8bd324e8-f2b9-48d7-90c4-27c4e6ae3861"
      },
      "source": [
        "# plotting \n",
        "#shift train prediction for plotting\n",
        "look_back = 100\n",
        "trainPredictionPlot = np.empty_like(data_close)\n",
        "trainPredictionPlot[:,:] = np.nan\n",
        "trainPredictionPlot[look_back:len(train_predict)+look_back, :] = train_predict\n",
        "\n",
        "#shift test prediction for plotting\n",
        "testPredictionPlot = np.empty_like(data_close)\n",
        "testPredictionPlot[:,:] = np.nan\n",
        "testPredictionPlot[len(train_predict) + (look_back * 2)+1:len(data_close)-1, :] = test_predict\n",
        "\n",
        "#Plot baseline and predictions\n",
        "plt.plot(scaler.inverse_transform(data_close))\n",
        "plt.plot(trainPredictionPlot)\n",
        "plt.plot(testPredictionPlot)\n",
        "plt.show()\n"
      ],
      "execution_count": 22,
      "outputs": [
        {
          "output_type": "display_data",
          "data": {
            "image/png": "[encoded data removed]",
            "text/plain": [
              "<Figure size 432x288 with 1 Axes>"
            ]
          },
          "metadata": {
            "needs_background": "light"
          }
        }
      ]
    },
    {
      "cell_type": "markdown",
      "metadata": {
        "id": "Ce0FF82NTtWw"
      },
      "source": [
        "##### Predict the next 30 days Stock Price "
      ]
    },
    {
      "cell_type": "code",
      "metadata": {
        "id": "OauSigY-TtWx",
        "colab": {
          "base_uri": "https://localhost:8080/"
        },
        "outputId": "32653bd9-ed18-46c0-83e4-f2ae71a39d76"
      },
      "source": [
        "len(test_data), x_test.shape"
      ],
      "execution_count": 23,
      "outputs": [
        {
          "output_type": "execute_result",
          "data": {
            "text/plain": [
              "(509, (408, 100, 1))"
            ]
          },
          "metadata": {},
          "execution_count": 23
        }
      ]
    },
    {
      "cell_type": "code",
      "metadata": {
        "id": "nxl4DdzQTtWx",
        "colab": {
          "base_uri": "https://localhost:8080/"
        },
        "outputId": "e3131eee-3063-4f1d-e27e-48a56fa8911a"
      },
      "source": [
        "x_input = test = test_data[409:].reshape(1,-1)\n",
        "x_input.shape"
      ],
      "execution_count": 24,
      "outputs": [
        {
          "output_type": "execute_result",
          "data": {
            "text/plain": [
              "(1, 100)"
            ]
          },
          "metadata": {},
          "execution_count": 24
        }
      ]
    },
    {
      "cell_type": "code",
      "metadata": {
        "id": "YropPkOPTtWy"
      },
      "source": [
        "temp_input = list(x_input)\n",
        "temp_input = temp_input[0].tolist()"
      ],
      "execution_count": 25,
      "outputs": []
    },
    {
      "cell_type": "code",
      "metadata": {
        "id": "QOdzcvpqTtWy",
        "colab": {
          "base_uri": "https://localhost:8080/"
        },
        "outputId": "b623f5ef-cb06-4a42-909b-64a249c035f6"
      },
      "source": [
        "lst_output=[]\n",
        "n_steps=100\n",
        "nextNumberOfDays = 30\n",
        "i=0\n",
        "\n",
        "while(i<nextNumberOfDays):\n",
        "    if(len(temp_input)>100):\n",
        "        x_input=np.array(temp_input[1:])\n",
        "        print(\"{} day input {}\".format(i,x_input))\n",
        "        x_input=x_input.reshape(1,-1)\n",
        "        x_input= x_input.reshape((1,n_steps, 1))\n",
        "        yhat = model.predict(x_input, verbose=0)\n",
        "        print(\"{} day output {}\".format(i,yhat))\n",
        "        temp_input.extend(yhat[0].tolist())\n",
        "        temp_input=temp_input[1:]\n",
        "        lst_output.extend(yhat.tolist())\n",
        "        i=i+1\n",
        "    else:\n",
        "        x_input= x_input.reshape((1,n_steps, 1))\n",
        "        yhat = model.predict(x_input, verbose=0)\n",
        "        print(yhat[0])\n",
        "        temp_input.extend(yhat[0].tolist())\n",
        "        print(len(temp_input))\n",
        "        lst_output.extend(yhat.tolist())\n",
        "        i=i+1\n",
        "print(lst_output)"
      ],
      "execution_count": 26,
      "outputs": [
        {
          "output_type": "stream",
          "name": "stdout",
          "text": [
            "[0.16931319]\n",
            "101\n",
            "1 day input [0.13848039 0.14011438 0.13888889 0.13541667 0.14011438 0.1380719\n",
            " 0.13071895 0.13071895 0.12867647 0.11846405 0.14644608 0.14808007\n",
            " 0.15910948 0.15992647 0.15788399 0.16441993 0.17892157 0.17933007\n",
            " 0.19260621 0.20812908 0.18974673 0.18055556 0.18239379 0.17708333\n",
            " 0.17810458 0.18055556 0.17810458 0.17851307 0.19607843 0.18913399\n",
            " 0.18954248 0.19403595 0.19444444 0.20200163 0.19771242 0.19934641\n",
            " 0.19873366 0.1997549  0.2128268  0.21568627 0.20445261 0.21772876\n",
            " 0.21098856 0.21425654 0.19750817 0.18811275 0.17851307 0.17381536\n",
            " 0.16033497 0.16564542 0.17116013 0.17422386 0.18035131 0.17401961\n",
            " 0.16278595 0.16973039 0.17810458 0.17034314 0.16830065 0.17279412\n",
            " 0.17544935 0.18382353 0.19138072 0.18913399 0.19097222 0.17238562\n",
            " 0.16830065 0.1693219  0.17177288 0.16156046 0.14971405 0.1503268\n",
            " 0.15196078 0.14726307 0.14501634 0.14603758 0.12479575 0.13112745\n",
            " 0.11397059 0.1190768  0.12377451 0.13562092 0.12908497 0.13459967\n",
            " 0.12806373 0.13031046 0.12724673 0.13521242 0.14522059 0.15257353\n",
            " 0.14848856 0.14338235 0.14562908 0.15236928 0.15400327 0.14971405\n",
            " 0.1621732  0.16319444 0.16584967 0.16931319]\n",
            "1 day output [[0.17225668]]\n",
            "2 day input [0.14011438 0.13888889 0.13541667 0.14011438 0.1380719  0.13071895\n",
            " 0.13071895 0.12867647 0.11846405 0.14644608 0.14808007 0.15910948\n",
            " 0.15992647 0.15788399 0.16441993 0.17892157 0.17933007 0.19260621\n",
            " 0.20812908 0.18974673 0.18055556 0.18239379 0.17708333 0.17810458\n",
            " 0.18055556 0.17810458 0.17851307 0.19607843 0.18913399 0.18954248\n",
            " 0.19403595 0.19444444 0.20200163 0.19771242 0.19934641 0.19873366\n",
            " 0.1997549  0.2128268  0.21568627 0.20445261 0.21772876 0.21098856\n",
            " 0.21425654 0.19750817 0.18811275 0.17851307 0.17381536 0.16033497\n",
            " 0.16564542 0.17116013 0.17422386 0.18035131 0.17401961 0.16278595\n",
            " 0.16973039 0.17810458 0.17034314 0.16830065 0.17279412 0.17544935\n",
            " 0.18382353 0.19138072 0.18913399 0.19097222 0.17238562 0.16830065\n",
            " 0.1693219  0.17177288 0.16156046 0.14971405 0.1503268  0.15196078\n",
            " 0.14726307 0.14501634 0.14603758 0.12479575 0.13112745 0.11397059\n",
            " 0.1190768  0.12377451 0.13562092 0.12908497 0.13459967 0.12806373\n",
            " 0.13031046 0.12724673 0.13521242 0.14522059 0.15257353 0.14848856\n",
            " 0.14338235 0.14562908 0.15236928 0.15400327 0.14971405 0.1621732\n",
            " 0.16319444 0.16584967 0.16931319 0.17225668]\n",
            "2 day output [[0.17497602]]\n",
            "3 day input [0.13888889 0.13541667 0.14011438 0.1380719  0.13071895 0.13071895\n",
            " 0.12867647 0.11846405 0.14644608 0.14808007 0.15910948 0.15992647\n",
            " 0.15788399 0.16441993 0.17892157 0.17933007 0.19260621 0.20812908\n",
            " 0.18974673 0.18055556 0.18239379 0.17708333 0.17810458 0.18055556\n",
            " 0.17810458 0.17851307 0.19607843 0.18913399 0.18954248 0.19403595\n",
            " 0.19444444 0.20200163 0.19771242 0.19934641 0.19873366 0.1997549\n",
            " 0.2128268  0.21568627 0.20445261 0.21772876 0.21098856 0.21425654\n",
            " 0.19750817 0.18811275 0.17851307 0.17381536 0.16033497 0.16564542\n",
            " 0.17116013 0.17422386 0.18035131 0.17401961 0.16278595 0.16973039\n",
            " 0.17810458 0.17034314 0.16830065 0.17279412 0.17544935 0.18382353\n",
            " 0.19138072 0.18913399 0.19097222 0.17238562 0.16830065 0.1693219\n",
            " 0.17177288 0.16156046 0.14971405 0.1503268  0.15196078 0.14726307\n",
            " 0.14501634 0.14603758 0.12479575 0.13112745 0.11397059 0.1190768\n",
            " 0.12377451 0.13562092 0.12908497 0.13459967 0.12806373 0.13031046\n",
            " 0.12724673 0.13521242 0.14522059 0.15257353 0.14848856 0.14338235\n",
            " 0.14562908 0.15236928 0.15400327 0.14971405 0.1621732  0.16319444\n",
            " 0.16584967 0.16931319 0.17225668 0.17497602]\n",
            "3 day output [[0.17757177]]\n",
            "4 day input [0.13541667 0.14011438 0.1380719  0.13071895 0.13071895 0.12867647\n",
            " 0.11846405 0.14644608 0.14808007 0.15910948 0.15992647 0.15788399\n",
            " 0.16441993 0.17892157 0.17933007 0.19260621 0.20812908 0.18974673\n",
            " 0.18055556 0.18239379 0.17708333 0.17810458 0.18055556 0.17810458\n",
            " 0.17851307 0.19607843 0.18913399 0.18954248 0.19403595 0.19444444\n",
            " 0.20200163 0.19771242 0.19934641 0.19873366 0.1997549  0.2128268\n",
            " 0.21568627 0.20445261 0.21772876 0.21098856 0.21425654 0.19750817\n",
            " 0.18811275 0.17851307 0.17381536 0.16033497 0.16564542 0.17116013\n",
            " 0.17422386 0.18035131 0.17401961 0.16278595 0.16973039 0.17810458\n",
            " 0.17034314 0.16830065 0.17279412 0.17544935 0.18382353 0.19138072\n",
            " 0.18913399 0.19097222 0.17238562 0.16830065 0.1693219  0.17177288\n",
            " 0.16156046 0.14971405 0.1503268  0.15196078 0.14726307 0.14501634\n",
            " 0.14603758 0.12479575 0.13112745 0.11397059 0.1190768  0.12377451\n",
            " 0.13562092 0.12908497 0.13459967 0.12806373 0.13031046 0.12724673\n",
            " 0.13521242 0.14522059 0.15257353 0.14848856 0.14338235 0.14562908\n",
            " 0.15236928 0.15400327 0.14971405 0.1621732  0.16319444 0.16584967\n",
            " 0.16931319 0.17225668 0.17497602 0.17757177]\n",
            "4 day output [[0.18006065]]\n",
            "5 day input [0.14011438 0.1380719  0.13071895 0.13071895 0.12867647 0.11846405\n",
            " 0.14644608 0.14808007 0.15910948 0.15992647 0.15788399 0.16441993\n",
            " 0.17892157 0.17933007 0.19260621 0.20812908 0.18974673 0.18055556\n",
            " 0.18239379 0.17708333 0.17810458 0.18055556 0.17810458 0.17851307\n",
            " 0.19607843 0.18913399 0.18954248 0.19403595 0.19444444 0.20200163\n",
            " 0.19771242 0.19934641 0.19873366 0.1997549  0.2128268  0.21568627\n",
            " 0.20445261 0.21772876 0.21098856 0.21425654 0.19750817 0.18811275\n",
            " 0.17851307 0.17381536 0.16033497 0.16564542 0.17116013 0.17422386\n",
            " 0.18035131 0.17401961 0.16278595 0.16973039 0.17810458 0.17034314\n",
            " 0.16830065 0.17279412 0.17544935 0.18382353 0.19138072 0.18913399\n",
            " 0.19097222 0.17238562 0.16830065 0.1693219  0.17177288 0.16156046\n",
            " 0.14971405 0.1503268  0.15196078 0.14726307 0.14501634 0.14603758\n",
            " 0.12479575 0.13112745 0.11397059 0.1190768  0.12377451 0.13562092\n",
            " 0.12908497 0.13459967 0.12806373 0.13031046 0.12724673 0.13521242\n",
            " 0.14522059 0.15257353 0.14848856 0.14338235 0.14562908 0.15236928\n",
            " 0.15400327 0.14971405 0.1621732  0.16319444 0.16584967 0.16931319\n",
            " 0.17225668 0.17497602 0.17757177 0.18006065]\n",
            "5 day output [[0.18244612]]\n",
            "6 day input [0.1380719  0.13071895 0.13071895 0.12867647 0.11846405 0.14644608\n",
            " 0.14808007 0.15910948 0.15992647 0.15788399 0.16441993 0.17892157\n",
            " 0.17933007 0.19260621 0.20812908 0.18974673 0.18055556 0.18239379\n",
            " 0.17708333 0.17810458 0.18055556 0.17810458 0.17851307 0.19607843\n",
            " 0.18913399 0.18954248 0.19403595 0.19444444 0.20200163 0.19771242\n",
            " 0.19934641 0.19873366 0.1997549  0.2128268  0.21568627 0.20445261\n",
            " 0.21772876 0.21098856 0.21425654 0.19750817 0.18811275 0.17851307\n",
            " 0.17381536 0.16033497 0.16564542 0.17116013 0.17422386 0.18035131\n",
            " 0.17401961 0.16278595 0.16973039 0.17810458 0.17034314 0.16830065\n",
            " 0.17279412 0.17544935 0.18382353 0.19138072 0.18913399 0.19097222\n",
            " 0.17238562 0.16830065 0.1693219  0.17177288 0.16156046 0.14971405\n",
            " 0.1503268  0.15196078 0.14726307 0.14501634 0.14603758 0.12479575\n",
            " 0.13112745 0.11397059 0.1190768  0.12377451 0.13562092 0.12908497\n",
            " 0.13459967 0.12806373 0.13031046 0.12724673 0.13521242 0.14522059\n",
            " 0.15257353 0.14848856 0.14338235 0.14562908 0.15236928 0.15400327\n",
            " 0.14971405 0.1621732  0.16319444 0.16584967 0.16931319 0.17225668\n",
            " 0.17497602 0.17757177 0.18006065 0.18244612]\n",
            "6 day output [[0.18473506]]\n",
            "7 day input [0.13071895 0.13071895 0.12867647 0.11846405 0.14644608 0.14808007\n",
            " 0.15910948 0.15992647 0.15788399 0.16441993 0.17892157 0.17933007\n",
            " 0.19260621 0.20812908 0.18974673 0.18055556 0.18239379 0.17708333\n",
            " 0.17810458 0.18055556 0.17810458 0.17851307 0.19607843 0.18913399\n",
            " 0.18954248 0.19403595 0.19444444 0.20200163 0.19771242 0.19934641\n",
            " 0.19873366 0.1997549  0.2128268  0.21568627 0.20445261 0.21772876\n",
            " 0.21098856 0.21425654 0.19750817 0.18811275 0.17851307 0.17381536\n",
            " 0.16033497 0.16564542 0.17116013 0.17422386 0.18035131 0.17401961\n",
            " 0.16278595 0.16973039 0.17810458 0.17034314 0.16830065 0.17279412\n",
            " 0.17544935 0.18382353 0.19138072 0.18913399 0.19097222 0.17238562\n",
            " 0.16830065 0.1693219  0.17177288 0.16156046 0.14971405 0.1503268\n",
            " 0.15196078 0.14726307 0.14501634 0.14603758 0.12479575 0.13112745\n",
            " 0.11397059 0.1190768  0.12377451 0.13562092 0.12908497 0.13459967\n",
            " 0.12806373 0.13031046 0.12724673 0.13521242 0.14522059 0.15257353\n",
            " 0.14848856 0.14338235 0.14562908 0.15236928 0.15400327 0.14971405\n",
            " 0.1621732  0.16319444 0.16584967 0.16931319 0.17225668 0.17497602\n",
            " 0.17757177 0.18006065 0.18244612 0.18473506]\n",
            "7 day output [[0.18693748]]\n",
            "8 day input [0.13071895 0.12867647 0.11846405 0.14644608 0.14808007 0.15910948\n",
            " 0.15992647 0.15788399 0.16441993 0.17892157 0.17933007 0.19260621\n",
            " 0.20812908 0.18974673 0.18055556 0.18239379 0.17708333 0.17810458\n",
            " 0.18055556 0.17810458 0.17851307 0.19607843 0.18913399 0.18954248\n",
            " 0.19403595 0.19444444 0.20200163 0.19771242 0.19934641 0.19873366\n",
            " 0.1997549  0.2128268  0.21568627 0.20445261 0.21772876 0.21098856\n",
            " 0.21425654 0.19750817 0.18811275 0.17851307 0.17381536 0.16033497\n",
            " 0.16564542 0.17116013 0.17422386 0.18035131 0.17401961 0.16278595\n",
            " 0.16973039 0.17810458 0.17034314 0.16830065 0.17279412 0.17544935\n",
            " 0.18382353 0.19138072 0.18913399 0.19097222 0.17238562 0.16830065\n",
            " 0.1693219  0.17177288 0.16156046 0.14971405 0.1503268  0.15196078\n",
            " 0.14726307 0.14501634 0.14603758 0.12479575 0.13112745 0.11397059\n",
            " 0.1190768  0.12377451 0.13562092 0.12908497 0.13459967 0.12806373\n",
            " 0.13031046 0.12724673 0.13521242 0.14522059 0.15257353 0.14848856\n",
            " 0.14338235 0.14562908 0.15236928 0.15400327 0.14971405 0.1621732\n",
            " 0.16319444 0.16584967 0.16931319 0.17225668 0.17497602 0.17757177\n",
            " 0.18006065 0.18244612 0.18473506 0.18693748]\n",
            "8 day output [[0.18906415]]\n",
            "9 day input [0.12867647 0.11846405 0.14644608 0.14808007 0.15910948 0.15992647\n",
            " 0.15788399 0.16441993 0.17892157 0.17933007 0.19260621 0.20812908\n",
            " 0.18974673 0.18055556 0.18239379 0.17708333 0.17810458 0.18055556\n",
            " 0.17810458 0.17851307 0.19607843 0.18913399 0.18954248 0.19403595\n",
            " 0.19444444 0.20200163 0.19771242 0.19934641 0.19873366 0.1997549\n",
            " 0.2128268  0.21568627 0.20445261 0.21772876 0.21098856 0.21425654\n",
            " 0.19750817 0.18811275 0.17851307 0.17381536 0.16033497 0.16564542\n",
            " 0.17116013 0.17422386 0.18035131 0.17401961 0.16278595 0.16973039\n",
            " 0.17810458 0.17034314 0.16830065 0.17279412 0.17544935 0.18382353\n",
            " 0.19138072 0.18913399 0.19097222 0.17238562 0.16830065 0.1693219\n",
            " 0.17177288 0.16156046 0.14971405 0.1503268  0.15196078 0.14726307\n",
            " 0.14501634 0.14603758 0.12479575 0.13112745 0.11397059 0.1190768\n",
            " 0.12377451 0.13562092 0.12908497 0.13459967 0.12806373 0.13031046\n",
            " 0.12724673 0.13521242 0.14522059 0.15257353 0.14848856 0.14338235\n",
            " 0.14562908 0.15236928 0.15400327 0.14971405 0.1621732  0.16319444\n",
            " 0.16584967 0.16931319 0.17225668 0.17497602 0.17757177 0.18006065\n",
            " 0.18244612 0.18473506 0.18693748 0.18906415]\n",
            "9 day output [[0.19112477]]\n",
            "10 day input [0.11846405 0.14644608 0.14808007 0.15910948 0.15992647 0.15788399\n",
            " 0.16441993 0.17892157 0.17933007 0.19260621 0.20812908 0.18974673\n",
            " 0.18055556 0.18239379 0.17708333 0.17810458 0.18055556 0.17810458\n",
            " 0.17851307 0.19607843 0.18913399 0.18954248 0.19403595 0.19444444\n",
            " 0.20200163 0.19771242 0.19934641 0.19873366 0.1997549  0.2128268\n",
            " 0.21568627 0.20445261 0.21772876 0.21098856 0.21425654 0.19750817\n",
            " 0.18811275 0.17851307 0.17381536 0.16033497 0.16564542 0.17116013\n",
            " 0.17422386 0.18035131 0.17401961 0.16278595 0.16973039 0.17810458\n",
            " 0.17034314 0.16830065 0.17279412 0.17544935 0.18382353 0.19138072\n",
            " 0.18913399 0.19097222 0.17238562 0.16830065 0.1693219  0.17177288\n",
            " 0.16156046 0.14971405 0.1503268  0.15196078 0.14726307 0.14501634\n",
            " 0.14603758 0.12479575 0.13112745 0.11397059 0.1190768  0.12377451\n",
            " 0.13562092 0.12908497 0.13459967 0.12806373 0.13031046 0.12724673\n",
            " 0.13521242 0.14522059 0.15257353 0.14848856 0.14338235 0.14562908\n",
            " 0.15236928 0.15400327 0.14971405 0.1621732  0.16319444 0.16584967\n",
            " 0.16931319 0.17225668 0.17497602 0.17757177 0.18006065 0.18244612\n",
            " 0.18473506 0.18693748 0.18906415 0.19112477]\n",
            "10 day output [[0.19312757]]\n",
            "11 day input [0.14644608 0.14808007 0.15910948 0.15992647 0.15788399 0.16441993\n",
            " 0.17892157 0.17933007 0.19260621 0.20812908 0.18974673 0.18055556\n",
            " 0.18239379 0.17708333 0.17810458 0.18055556 0.17810458 0.17851307\n",
            " 0.19607843 0.18913399 0.18954248 0.19403595 0.19444444 0.20200163\n",
            " 0.19771242 0.19934641 0.19873366 0.1997549  0.2128268  0.21568627\n",
            " 0.20445261 0.21772876 0.21098856 0.21425654 0.19750817 0.18811275\n",
            " 0.17851307 0.17381536 0.16033497 0.16564542 0.17116013 0.17422386\n",
            " 0.18035131 0.17401961 0.16278595 0.16973039 0.17810458 0.17034314\n",
            " 0.16830065 0.17279412 0.17544935 0.18382353 0.19138072 0.18913399\n",
            " 0.19097222 0.17238562 0.16830065 0.1693219  0.17177288 0.16156046\n",
            " 0.14971405 0.1503268  0.15196078 0.14726307 0.14501634 0.14603758\n",
            " 0.12479575 0.13112745 0.11397059 0.1190768  0.12377451 0.13562092\n",
            " 0.12908497 0.13459967 0.12806373 0.13031046 0.12724673 0.13521242\n",
            " 0.14522059 0.15257353 0.14848856 0.14338235 0.14562908 0.15236928\n",
            " 0.15400327 0.14971405 0.1621732  0.16319444 0.16584967 0.16931319\n",
            " 0.17225668 0.17497602 0.17757177 0.18006065 0.18244612 0.18473506\n",
            " 0.18693748 0.18906415 0.19112477 0.19312757]\n",
            "11 day output [[0.19507879]]\n",
            "12 day input [0.14808007 0.15910948 0.15992647 0.15788399 0.16441993 0.17892157\n",
            " 0.17933007 0.19260621 0.20812908 0.18974673 0.18055556 0.18239379\n",
            " 0.17708333 0.17810458 0.18055556 0.17810458 0.17851307 0.19607843\n",
            " 0.18913399 0.18954248 0.19403595 0.19444444 0.20200163 0.19771242\n",
            " 0.19934641 0.19873366 0.1997549  0.2128268  0.21568627 0.20445261\n",
            " 0.21772876 0.21098856 0.21425654 0.19750817 0.18811275 0.17851307\n",
            " 0.17381536 0.16033497 0.16564542 0.17116013 0.17422386 0.18035131\n",
            " 0.17401961 0.16278595 0.16973039 0.17810458 0.17034314 0.16830065\n",
            " 0.17279412 0.17544935 0.18382353 0.19138072 0.18913399 0.19097222\n",
            " 0.17238562 0.16830065 0.1693219  0.17177288 0.16156046 0.14971405\n",
            " 0.1503268  0.15196078 0.14726307 0.14501634 0.14603758 0.12479575\n",
            " 0.13112745 0.11397059 0.1190768  0.12377451 0.13562092 0.12908497\n",
            " 0.13459967 0.12806373 0.13031046 0.12724673 0.13521242 0.14522059\n",
            " 0.15257353 0.14848856 0.14338235 0.14562908 0.15236928 0.15400327\n",
            " 0.14971405 0.1621732  0.16319444 0.16584967 0.16931319 0.17225668\n",
            " 0.17497602 0.17757177 0.18006065 0.18244612 0.18473506 0.18693748\n",
            " 0.18906415 0.19112477 0.19312757 0.19507879]\n",
            "12 day output [[0.19698307]]\n",
            "13 day input [0.15910948 0.15992647 0.15788399 0.16441993 0.17892157 0.17933007\n",
            " 0.19260621 0.20812908 0.18974673 0.18055556 0.18239379 0.17708333\n",
            " 0.17810458 0.18055556 0.17810458 0.17851307 0.19607843 0.18913399\n",
            " 0.18954248 0.19403595 0.19444444 0.20200163 0.19771242 0.19934641\n",
            " 0.19873366 0.1997549  0.2128268  0.21568627 0.20445261 0.21772876\n",
            " 0.21098856 0.21425654 0.19750817 0.18811275 0.17851307 0.17381536\n",
            " 0.16033497 0.16564542 0.17116013 0.17422386 0.18035131 0.17401961\n",
            " 0.16278595 0.16973039 0.17810458 0.17034314 0.16830065 0.17279412\n",
            " 0.17544935 0.18382353 0.19138072 0.18913399 0.19097222 0.17238562\n",
            " 0.16830065 0.1693219  0.17177288 0.16156046 0.14971405 0.1503268\n",
            " 0.15196078 0.14726307 0.14501634 0.14603758 0.12479575 0.13112745\n",
            " 0.11397059 0.1190768  0.12377451 0.13562092 0.12908497 0.13459967\n",
            " 0.12806373 0.13031046 0.12724673 0.13521242 0.14522059 0.15257353\n",
            " 0.14848856 0.14338235 0.14562908 0.15236928 0.15400327 0.14971405\n",
            " 0.1621732  0.16319444 0.16584967 0.16931319 0.17225668 0.17497602\n",
            " 0.17757177 0.18006065 0.18244612 0.18473506 0.18693748 0.18906415\n",
            " 0.19112477 0.19312757 0.19507879 0.19698307]\n",
            "13 day output [[0.19884375]]\n",
            "14 day input [0.15992647 0.15788399 0.16441993 0.17892157 0.17933007 0.19260621\n",
            " 0.20812908 0.18974673 0.18055556 0.18239379 0.17708333 0.17810458\n",
            " 0.18055556 0.17810458 0.17851307 0.19607843 0.18913399 0.18954248\n",
            " 0.19403595 0.19444444 0.20200163 0.19771242 0.19934641 0.19873366\n",
            " 0.1997549  0.2128268  0.21568627 0.20445261 0.21772876 0.21098856\n",
            " 0.21425654 0.19750817 0.18811275 0.17851307 0.17381536 0.16033497\n",
            " 0.16564542 0.17116013 0.17422386 0.18035131 0.17401961 0.16278595\n",
            " 0.16973039 0.17810458 0.17034314 0.16830065 0.17279412 0.17544935\n",
            " 0.18382353 0.19138072 0.18913399 0.19097222 0.17238562 0.16830065\n",
            " 0.1693219  0.17177288 0.16156046 0.14971405 0.1503268  0.15196078\n",
            " 0.14726307 0.14501634 0.14603758 0.12479575 0.13112745 0.11397059\n",
            " 0.1190768  0.12377451 0.13562092 0.12908497 0.13459967 0.12806373\n",
            " 0.13031046 0.12724673 0.13521242 0.14522059 0.15257353 0.14848856\n",
            " 0.14338235 0.14562908 0.15236928 0.15400327 0.14971405 0.1621732\n",
            " 0.16319444 0.16584967 0.16931319 0.17225668 0.17497602 0.17757177\n",
            " 0.18006065 0.18244612 0.18473506 0.18693748 0.18906415 0.19112477\n",
            " 0.19312757 0.19507879 0.19698307 0.19884375]\n",
            "14 day output [[0.20066294]]\n",
            "15 day input [0.15788399 0.16441993 0.17892157 0.17933007 0.19260621 0.20812908\n",
            " 0.18974673 0.18055556 0.18239379 0.17708333 0.17810458 0.18055556\n",
            " 0.17810458 0.17851307 0.19607843 0.18913399 0.18954248 0.19403595\n",
            " 0.19444444 0.20200163 0.19771242 0.19934641 0.19873366 0.1997549\n",
            " 0.2128268  0.21568627 0.20445261 0.21772876 0.21098856 0.21425654\n",
            " 0.19750817 0.18811275 0.17851307 0.17381536 0.16033497 0.16564542\n",
            " 0.17116013 0.17422386 0.18035131 0.17401961 0.16278595 0.16973039\n",
            " 0.17810458 0.17034314 0.16830065 0.17279412 0.17544935 0.18382353\n",
            " 0.19138072 0.18913399 0.19097222 0.17238562 0.16830065 0.1693219\n",
            " 0.17177288 0.16156046 0.14971405 0.1503268  0.15196078 0.14726307\n",
            " 0.14501634 0.14603758 0.12479575 0.13112745 0.11397059 0.1190768\n",
            " 0.12377451 0.13562092 0.12908497 0.13459967 0.12806373 0.13031046\n",
            " 0.12724673 0.13521242 0.14522059 0.15257353 0.14848856 0.14338235\n",
            " 0.14562908 0.15236928 0.15400327 0.14971405 0.1621732  0.16319444\n",
            " 0.16584967 0.16931319 0.17225668 0.17497602 0.17757177 0.18006065\n",
            " 0.18244612 0.18473506 0.18693748 0.18906415 0.19112477 0.19312757\n",
            " 0.19507879 0.19698307 0.19884375 0.20066294]\n",
            "15 day output [[0.2024422]]\n",
            "16 day input [0.16441993 0.17892157 0.17933007 0.19260621 0.20812908 0.18974673\n",
            " 0.18055556 0.18239379 0.17708333 0.17810458 0.18055556 0.17810458\n",
            " 0.17851307 0.19607843 0.18913399 0.18954248 0.19403595 0.19444444\n",
            " 0.20200163 0.19771242 0.19934641 0.19873366 0.1997549  0.2128268\n",
            " 0.21568627 0.20445261 0.21772876 0.21098856 0.21425654 0.19750817\n",
            " 0.18811275 0.17851307 0.17381536 0.16033497 0.16564542 0.17116013\n",
            " 0.17422386 0.18035131 0.17401961 0.16278595 0.16973039 0.17810458\n",
            " 0.17034314 0.16830065 0.17279412 0.17544935 0.18382353 0.19138072\n",
            " 0.18913399 0.19097222 0.17238562 0.16830065 0.1693219  0.17177288\n",
            " 0.16156046 0.14971405 0.1503268  0.15196078 0.14726307 0.14501634\n",
            " 0.14603758 0.12479575 0.13112745 0.11397059 0.1190768  0.12377451\n",
            " 0.13562092 0.12908497 0.13459967 0.12806373 0.13031046 0.12724673\n",
            " 0.13521242 0.14522059 0.15257353 0.14848856 0.14338235 0.14562908\n",
            " 0.15236928 0.15400327 0.14971405 0.1621732  0.16319444 0.16584967\n",
            " 0.16931319 0.17225668 0.17497602 0.17757177 0.18006065 0.18244612\n",
            " 0.18473506 0.18693748 0.18906415 0.19112477 0.19312757 0.19507879\n",
            " 0.19698307 0.19884375 0.20066294 0.2024422 ]\n",
            "16 day output [[0.20418239]]\n",
            "17 day input [0.17892157 0.17933007 0.19260621 0.20812908 0.18974673 0.18055556\n",
            " 0.18239379 0.17708333 0.17810458 0.18055556 0.17810458 0.17851307\n",
            " 0.19607843 0.18913399 0.18954248 0.19403595 0.19444444 0.20200163\n",
            " 0.19771242 0.19934641 0.19873366 0.1997549  0.2128268  0.21568627\n",
            " 0.20445261 0.21772876 0.21098856 0.21425654 0.19750817 0.18811275\n",
            " 0.17851307 0.17381536 0.16033497 0.16564542 0.17116013 0.17422386\n",
            " 0.18035131 0.17401961 0.16278595 0.16973039 0.17810458 0.17034314\n",
            " 0.16830065 0.17279412 0.17544935 0.18382353 0.19138072 0.18913399\n",
            " 0.19097222 0.17238562 0.16830065 0.1693219  0.17177288 0.16156046\n",
            " 0.14971405 0.1503268  0.15196078 0.14726307 0.14501634 0.14603758\n",
            " 0.12479575 0.13112745 0.11397059 0.1190768  0.12377451 0.13562092\n",
            " 0.12908497 0.13459967 0.12806373 0.13031046 0.12724673 0.13521242\n",
            " 0.14522059 0.15257353 0.14848856 0.14338235 0.14562908 0.15236928\n",
            " 0.15400327 0.14971405 0.1621732  0.16319444 0.16584967 0.16931319\n",
            " 0.17225668 0.17497602 0.17757177 0.18006065 0.18244612 0.18473506\n",
            " 0.18693748 0.18906415 0.19112477 0.19312757 0.19507879 0.19698307\n",
            " 0.19884375 0.20066294 0.2024422  0.20418239]\n",
            "17 day output [[0.2058844]]\n",
            "18 day input [0.17933007 0.19260621 0.20812908 0.18974673 0.18055556 0.18239379\n",
            " 0.17708333 0.17810458 0.18055556 0.17810458 0.17851307 0.19607843\n",
            " 0.18913399 0.18954248 0.19403595 0.19444444 0.20200163 0.19771242\n",
            " 0.19934641 0.19873366 0.1997549  0.2128268  0.21568627 0.20445261\n",
            " 0.21772876 0.21098856 0.21425654 0.19750817 0.18811275 0.17851307\n",
            " 0.17381536 0.16033497 0.16564542 0.17116013 0.17422386 0.18035131\n",
            " 0.17401961 0.16278595 0.16973039 0.17810458 0.17034314 0.16830065\n",
            " 0.17279412 0.17544935 0.18382353 0.19138072 0.18913399 0.19097222\n",
            " 0.17238562 0.16830065 0.1693219  0.17177288 0.16156046 0.14971405\n",
            " 0.1503268  0.15196078 0.14726307 0.14501634 0.14603758 0.12479575\n",
            " 0.13112745 0.11397059 0.1190768  0.12377451 0.13562092 0.12908497\n",
            " 0.13459967 0.12806373 0.13031046 0.12724673 0.13521242 0.14522059\n",
            " 0.15257353 0.14848856 0.14338235 0.14562908 0.15236928 0.15400327\n",
            " 0.14971405 0.1621732  0.16319444 0.16584967 0.16931319 0.17225668\n",
            " 0.17497602 0.17757177 0.18006065 0.18244612 0.18473506 0.18693748\n",
            " 0.18906415 0.19112477 0.19312757 0.19507879 0.19698307 0.19884375\n",
            " 0.20066294 0.2024422  0.20418239 0.2058844 ]\n",
            "18 day output [[0.2075488]]\n",
            "19 day input [0.19260621 0.20812908 0.18974673 0.18055556 0.18239379 0.17708333\n",
            " 0.17810458 0.18055556 0.17810458 0.17851307 0.19607843 0.18913399\n",
            " 0.18954248 0.19403595 0.19444444 0.20200163 0.19771242 0.19934641\n",
            " 0.19873366 0.1997549  0.2128268  0.21568627 0.20445261 0.21772876\n",
            " 0.21098856 0.21425654 0.19750817 0.18811275 0.17851307 0.17381536\n",
            " 0.16033497 0.16564542 0.17116013 0.17422386 0.18035131 0.17401961\n",
            " 0.16278595 0.16973039 0.17810458 0.17034314 0.16830065 0.17279412\n",
            " 0.17544935 0.18382353 0.19138072 0.18913399 0.19097222 0.17238562\n",
            " 0.16830065 0.1693219  0.17177288 0.16156046 0.14971405 0.1503268\n",
            " 0.15196078 0.14726307 0.14501634 0.14603758 0.12479575 0.13112745\n",
            " 0.11397059 0.1190768  0.12377451 0.13562092 0.12908497 0.13459967\n",
            " 0.12806373 0.13031046 0.12724673 0.13521242 0.14522059 0.15257353\n",
            " 0.14848856 0.14338235 0.14562908 0.15236928 0.15400327 0.14971405\n",
            " 0.1621732  0.16319444 0.16584967 0.16931319 0.17225668 0.17497602\n",
            " 0.17757177 0.18006065 0.18244612 0.18473506 0.18693748 0.18906415\n",
            " 0.19112477 0.19312757 0.19507879 0.19698307 0.19884375 0.20066294\n",
            " 0.2024422  0.20418239 0.2058844  0.2075488 ]\n",
            "19 day output [[0.20917648]]\n",
            "20 day input [0.20812908 0.18974673 0.18055556 0.18239379 0.17708333 0.17810458\n",
            " 0.18055556 0.17810458 0.17851307 0.19607843 0.18913399 0.18954248\n",
            " 0.19403595 0.19444444 0.20200163 0.19771242 0.19934641 0.19873366\n",
            " 0.1997549  0.2128268  0.21568627 0.20445261 0.21772876 0.21098856\n",
            " 0.21425654 0.19750817 0.18811275 0.17851307 0.17381536 0.16033497\n",
            " 0.16564542 0.17116013 0.17422386 0.18035131 0.17401961 0.16278595\n",
            " 0.16973039 0.17810458 0.17034314 0.16830065 0.17279412 0.17544935\n",
            " 0.18382353 0.19138072 0.18913399 0.19097222 0.17238562 0.16830065\n",
            " 0.1693219  0.17177288 0.16156046 0.14971405 0.1503268  0.15196078\n",
            " 0.14726307 0.14501634 0.14603758 0.12479575 0.13112745 0.11397059\n",
            " 0.1190768  0.12377451 0.13562092 0.12908497 0.13459967 0.12806373\n",
            " 0.13031046 0.12724673 0.13521242 0.14522059 0.15257353 0.14848856\n",
            " 0.14338235 0.14562908 0.15236928 0.15400327 0.14971405 0.1621732\n",
            " 0.16319444 0.16584967 0.16931319 0.17225668 0.17497602 0.17757177\n",
            " 0.18006065 0.18244612 0.18473506 0.18693748 0.18906415 0.19112477\n",
            " 0.19312757 0.19507879 0.19698307 0.19884375 0.20066294 0.2024422\n",
            " 0.20418239 0.2058844  0.2075488  0.20917648]\n",
            "20 day output [[0.21076813]]\n",
            "21 day input [0.18974673 0.18055556 0.18239379 0.17708333 0.17810458 0.18055556\n",
            " 0.17810458 0.17851307 0.19607843 0.18913399 0.18954248 0.19403595\n",
            " 0.19444444 0.20200163 0.19771242 0.19934641 0.19873366 0.1997549\n",
            " 0.2128268  0.21568627 0.20445261 0.21772876 0.21098856 0.21425654\n",
            " 0.19750817 0.18811275 0.17851307 0.17381536 0.16033497 0.16564542\n",
            " 0.17116013 0.17422386 0.18035131 0.17401961 0.16278595 0.16973039\n",
            " 0.17810458 0.17034314 0.16830065 0.17279412 0.17544935 0.18382353\n",
            " 0.19138072 0.18913399 0.19097222 0.17238562 0.16830065 0.1693219\n",
            " 0.17177288 0.16156046 0.14971405 0.1503268  0.15196078 0.14726307\n",
            " 0.14501634 0.14603758 0.12479575 0.13112745 0.11397059 0.1190768\n",
            " 0.12377451 0.13562092 0.12908497 0.13459967 0.12806373 0.13031046\n",
            " 0.12724673 0.13521242 0.14522059 0.15257353 0.14848856 0.14338235\n",
            " 0.14562908 0.15236928 0.15400327 0.14971405 0.1621732  0.16319444\n",
            " 0.16584967 0.16931319 0.17225668 0.17497602 0.17757177 0.18006065\n",
            " 0.18244612 0.18473506 0.18693748 0.18906415 0.19112477 0.19312757\n",
            " 0.19507879 0.19698307 0.19884375 0.20066294 0.2024422  0.20418239\n",
            " 0.2058844  0.2075488  0.20917648 0.21076813]\n",
            "21 day output [[0.21232492]]\n",
            "22 day input [0.18055556 0.18239379 0.17708333 0.17810458 0.18055556 0.17810458\n",
            " 0.17851307 0.19607843 0.18913399 0.18954248 0.19403595 0.19444444\n",
            " 0.20200163 0.19771242 0.19934641 0.19873366 0.1997549  0.2128268\n",
            " 0.21568627 0.20445261 0.21772876 0.21098856 0.21425654 0.19750817\n",
            " 0.18811275 0.17851307 0.17381536 0.16033497 0.16564542 0.17116013\n",
            " 0.17422386 0.18035131 0.17401961 0.16278595 0.16973039 0.17810458\n",
            " 0.17034314 0.16830065 0.17279412 0.17544935 0.18382353 0.19138072\n",
            " 0.18913399 0.19097222 0.17238562 0.16830065 0.1693219  0.17177288\n",
            " 0.16156046 0.14971405 0.1503268  0.15196078 0.14726307 0.14501634\n",
            " 0.14603758 0.12479575 0.13112745 0.11397059 0.1190768  0.12377451\n",
            " 0.13562092 0.12908497 0.13459967 0.12806373 0.13031046 0.12724673\n",
            " 0.13521242 0.14522059 0.15257353 0.14848856 0.14338235 0.14562908\n",
            " 0.15236928 0.15400327 0.14971405 0.1621732  0.16319444 0.16584967\n",
            " 0.16931319 0.17225668 0.17497602 0.17757177 0.18006065 0.18244612\n",
            " 0.18473506 0.18693748 0.18906415 0.19112477 0.19312757 0.19507879\n",
            " 0.19698307 0.19884375 0.20066294 0.2024422  0.20418239 0.2058844\n",
            " 0.2075488  0.20917648 0.21076813 0.21232492]\n",
            "22 day output [[0.2138479]]\n",
            "23 day input [0.18239379 0.17708333 0.17810458 0.18055556 0.17810458 0.17851307\n",
            " 0.19607843 0.18913399 0.18954248 0.19403595 0.19444444 0.20200163\n",
            " 0.19771242 0.19934641 0.19873366 0.1997549  0.2128268  0.21568627\n",
            " 0.20445261 0.21772876 0.21098856 0.21425654 0.19750817 0.18811275\n",
            " 0.17851307 0.17381536 0.16033497 0.16564542 0.17116013 0.17422386\n",
            " 0.18035131 0.17401961 0.16278595 0.16973039 0.17810458 0.17034314\n",
            " 0.16830065 0.17279412 0.17544935 0.18382353 0.19138072 0.18913399\n",
            " 0.19097222 0.17238562 0.16830065 0.1693219  0.17177288 0.16156046\n",
            " 0.14971405 0.1503268  0.15196078 0.14726307 0.14501634 0.14603758\n",
            " 0.12479575 0.13112745 0.11397059 0.1190768  0.12377451 0.13562092\n",
            " 0.12908497 0.13459967 0.12806373 0.13031046 0.12724673 0.13521242\n",
            " 0.14522059 0.15257353 0.14848856 0.14338235 0.14562908 0.15236928\n",
            " 0.15400327 0.14971405 0.1621732  0.16319444 0.16584967 0.16931319\n",
            " 0.17225668 0.17497602 0.17757177 0.18006065 0.18244612 0.18473506\n",
            " 0.18693748 0.18906415 0.19112477 0.19312757 0.19507879 0.19698307\n",
            " 0.19884375 0.20066294 0.2024422  0.20418239 0.2058844  0.2075488\n",
            " 0.20917648 0.21076813 0.21232492 0.21384791]\n",
            "23 day output [[0.21533832]]\n",
            "24 day input [0.17708333 0.17810458 0.18055556 0.17810458 0.17851307 0.19607843\n",
            " 0.18913399 0.18954248 0.19403595 0.19444444 0.20200163 0.19771242\n",
            " 0.19934641 0.19873366 0.1997549  0.2128268  0.21568627 0.20445261\n",
            " 0.21772876 0.21098856 0.21425654 0.19750817 0.18811275 0.17851307\n",
            " 0.17381536 0.16033497 0.16564542 0.17116013 0.17422386 0.18035131\n",
            " 0.17401961 0.16278595 0.16973039 0.17810458 0.17034314 0.16830065\n",
            " 0.17279412 0.17544935 0.18382353 0.19138072 0.18913399 0.19097222\n",
            " 0.17238562 0.16830065 0.1693219  0.17177288 0.16156046 0.14971405\n",
            " 0.1503268  0.15196078 0.14726307 0.14501634 0.14603758 0.12479575\n",
            " 0.13112745 0.11397059 0.1190768  0.12377451 0.13562092 0.12908497\n",
            " 0.13459967 0.12806373 0.13031046 0.12724673 0.13521242 0.14522059\n",
            " 0.15257353 0.14848856 0.14338235 0.14562908 0.15236928 0.15400327\n",
            " 0.14971405 0.1621732  0.16319444 0.16584967 0.16931319 0.17225668\n",
            " 0.17497602 0.17757177 0.18006065 0.18244612 0.18473506 0.18693748\n",
            " 0.18906415 0.19112477 0.19312757 0.19507879 0.19698307 0.19884375\n",
            " 0.20066294 0.2024422  0.20418239 0.2058844  0.2075488  0.20917648\n",
            " 0.21076813 0.21232492 0.21384791 0.21533832]\n",
            "24 day output [[0.21679741]]\n",
            "25 day input [0.17810458 0.18055556 0.17810458 0.17851307 0.19607843 0.18913399\n",
            " 0.18954248 0.19403595 0.19444444 0.20200163 0.19771242 0.19934641\n",
            " 0.19873366 0.1997549  0.2128268  0.21568627 0.20445261 0.21772876\n",
            " 0.21098856 0.21425654 0.19750817 0.18811275 0.17851307 0.17381536\n",
            " 0.16033497 0.16564542 0.17116013 0.17422386 0.18035131 0.17401961\n",
            " 0.16278595 0.16973039 0.17810458 0.17034314 0.16830065 0.17279412\n",
            " 0.17544935 0.18382353 0.19138072 0.18913399 0.19097222 0.17238562\n",
            " 0.16830065 0.1693219  0.17177288 0.16156046 0.14971405 0.1503268\n",
            " 0.15196078 0.14726307 0.14501634 0.14603758 0.12479575 0.13112745\n",
            " 0.11397059 0.1190768  0.12377451 0.13562092 0.12908497 0.13459967\n",
            " 0.12806373 0.13031046 0.12724673 0.13521242 0.14522059 0.15257353\n",
            " 0.14848856 0.14338235 0.14562908 0.15236928 0.15400327 0.14971405\n",
            " 0.1621732  0.16319444 0.16584967 0.16931319 0.17225668 0.17497602\n",
            " 0.17757177 0.18006065 0.18244612 0.18473506 0.18693748 0.18906415\n",
            " 0.19112477 0.19312757 0.19507879 0.19698307 0.19884375 0.20066294\n",
            " 0.2024422  0.20418239 0.2058844  0.2075488  0.20917648 0.21076813\n",
            " 0.21232492 0.21384791 0.21533832 0.21679741]\n",
            "25 day output [[0.2182264]]\n",
            "26 day input [0.18055556 0.17810458 0.17851307 0.19607843 0.18913399 0.18954248\n",
            " 0.19403595 0.19444444 0.20200163 0.19771242 0.19934641 0.19873366\n",
            " 0.1997549  0.2128268  0.21568627 0.20445261 0.21772876 0.21098856\n",
            " 0.21425654 0.19750817 0.18811275 0.17851307 0.17381536 0.16033497\n",
            " 0.16564542 0.17116013 0.17422386 0.18035131 0.17401961 0.16278595\n",
            " 0.16973039 0.17810458 0.17034314 0.16830065 0.17279412 0.17544935\n",
            " 0.18382353 0.19138072 0.18913399 0.19097222 0.17238562 0.16830065\n",
            " 0.1693219  0.17177288 0.16156046 0.14971405 0.1503268  0.15196078\n",
            " 0.14726307 0.14501634 0.14603758 0.12479575 0.13112745 0.11397059\n",
            " 0.1190768  0.12377451 0.13562092 0.12908497 0.13459967 0.12806373\n",
            " 0.13031046 0.12724673 0.13521242 0.14522059 0.15257353 0.14848856\n",
            " 0.14338235 0.14562908 0.15236928 0.15400327 0.14971405 0.1621732\n",
            " 0.16319444 0.16584967 0.16931319 0.17225668 0.17497602 0.17757177\n",
            " 0.18006065 0.18244612 0.18473506 0.18693748 0.18906415 0.19112477\n",
            " 0.19312757 0.19507879 0.19698307 0.19884375 0.20066294 0.2024422\n",
            " 0.20418239 0.2058844  0.2075488  0.20917648 0.21076813 0.21232492\n",
            " 0.21384791 0.21533832 0.21679741 0.2182264 ]\n",
            "26 day output [[0.21962667]]\n",
            "27 day input [0.17810458 0.17851307 0.19607843 0.18913399 0.18954248 0.19403595\n",
            " 0.19444444 0.20200163 0.19771242 0.19934641 0.19873366 0.1997549\n",
            " 0.2128268  0.21568627 0.20445261 0.21772876 0.21098856 0.21425654\n",
            " 0.19750817 0.18811275 0.17851307 0.17381536 0.16033497 0.16564542\n",
            " 0.17116013 0.17422386 0.18035131 0.17401961 0.16278595 0.16973039\n",
            " 0.17810458 0.17034314 0.16830065 0.17279412 0.17544935 0.18382353\n",
            " 0.19138072 0.18913399 0.19097222 0.17238562 0.16830065 0.1693219\n",
            " 0.17177288 0.16156046 0.14971405 0.1503268  0.15196078 0.14726307\n",
            " 0.14501634 0.14603758 0.12479575 0.13112745 0.11397059 0.1190768\n",
            " 0.12377451 0.13562092 0.12908497 0.13459967 0.12806373 0.13031046\n",
            " 0.12724673 0.13521242 0.14522059 0.15257353 0.14848856 0.14338235\n",
            " 0.14562908 0.15236928 0.15400327 0.14971405 0.1621732  0.16319444\n",
            " 0.16584967 0.16931319 0.17225668 0.17497602 0.17757177 0.18006065\n",
            " 0.18244612 0.18473506 0.18693748 0.18906415 0.19112477 0.19312757\n",
            " 0.19507879 0.19698307 0.19884375 0.20066294 0.2024422  0.20418239\n",
            " 0.2058844  0.2075488  0.20917648 0.21076813 0.21232492 0.21384791\n",
            " 0.21533832 0.21679741 0.2182264  0.21962667]\n",
            "27 day output [[0.22099924]]\n",
            "28 day input [0.17851307 0.19607843 0.18913399 0.18954248 0.19403595 0.19444444\n",
            " 0.20200163 0.19771242 0.19934641 0.19873366 0.1997549  0.2128268\n",
            " 0.21568627 0.20445261 0.21772876 0.21098856 0.21425654 0.19750817\n",
            " 0.18811275 0.17851307 0.17381536 0.16033497 0.16564542 0.17116013\n",
            " 0.17422386 0.18035131 0.17401961 0.16278595 0.16973039 0.17810458\n",
            " 0.17034314 0.16830065 0.17279412 0.17544935 0.18382353 0.19138072\n",
            " 0.18913399 0.19097222 0.17238562 0.16830065 0.1693219  0.17177288\n",
            " 0.16156046 0.14971405 0.1503268  0.15196078 0.14726307 0.14501634\n",
            " 0.14603758 0.12479575 0.13112745 0.11397059 0.1190768  0.12377451\n",
            " 0.13562092 0.12908497 0.13459967 0.12806373 0.13031046 0.12724673\n",
            " 0.13521242 0.14522059 0.15257353 0.14848856 0.14338235 0.14562908\n",
            " 0.15236928 0.15400327 0.14971405 0.1621732  0.16319444 0.16584967\n",
            " 0.16931319 0.17225668 0.17497602 0.17757177 0.18006065 0.18244612\n",
            " 0.18473506 0.18693748 0.18906415 0.19112477 0.19312757 0.19507879\n",
            " 0.19698307 0.19884375 0.20066294 0.2024422  0.20418239 0.2058844\n",
            " 0.2075488  0.20917648 0.21076813 0.21232492 0.21384791 0.21533832\n",
            " 0.21679741 0.2182264  0.21962667 0.22099924]\n",
            "28 day output [[0.22234526]]\n",
            "29 day input [0.19607843 0.18913399 0.18954248 0.19403595 0.19444444 0.20200163\n",
            " 0.19771242 0.19934641 0.19873366 0.1997549  0.2128268  0.21568627\n",
            " 0.20445261 0.21772876 0.21098856 0.21425654 0.19750817 0.18811275\n",
            " 0.17851307 0.17381536 0.16033497 0.16564542 0.17116013 0.17422386\n",
            " 0.18035131 0.17401961 0.16278595 0.16973039 0.17810458 0.17034314\n",
            " 0.16830065 0.17279412 0.17544935 0.18382353 0.19138072 0.18913399\n",
            " 0.19097222 0.17238562 0.16830065 0.1693219  0.17177288 0.16156046\n",
            " 0.14971405 0.1503268  0.15196078 0.14726307 0.14501634 0.14603758\n",
            " 0.12479575 0.13112745 0.11397059 0.1190768  0.12377451 0.13562092\n",
            " 0.12908497 0.13459967 0.12806373 0.13031046 0.12724673 0.13521242\n",
            " 0.14522059 0.15257353 0.14848856 0.14338235 0.14562908 0.15236928\n",
            " 0.15400327 0.14971405 0.1621732  0.16319444 0.16584967 0.16931319\n",
            " 0.17225668 0.17497602 0.17757177 0.18006065 0.18244612 0.18473506\n",
            " 0.18693748 0.18906415 0.19112477 0.19312757 0.19507879 0.19698307\n",
            " 0.19884375 0.20066294 0.2024422  0.20418239 0.2058844  0.2075488\n",
            " 0.20917648 0.21076813 0.21232492 0.21384791 0.21533832 0.21679741\n",
            " 0.2182264  0.21962667 0.22099924 0.22234526]\n",
            "29 day output [[0.22366574]]\n",
            "[[0.1693131923675537], [0.1722566783428192], [0.17497602105140686], [0.17757177352905273], [0.18006065487861633], [0.18244612216949463], [0.18473505973815918], [0.18693748116493225], [0.1890641450881958], [0.19112476706504822], [0.1931275725364685], [0.1950787901878357], [0.19698306918144226], [0.19884374737739563], [0.20066294074058533], [0.2024421989917755], [0.20418238639831543], [0.2058843970298767], [0.20754879713058472], [0.20917648077011108], [0.21076813340187073], [0.21232491731643677], [0.21384790539741516], [0.2153383195400238], [0.21679741144180298], [0.21822640299797058], [0.21962666511535645], [0.22099924087524414], [0.2223452627658844], [0.2236657440662384]]\n"
          ]
        }
      ]
    },
    {
      "cell_type": "code",
      "metadata": {
        "id": "79A8Xn5GTtWy"
      },
      "source": [
        "day_new = np.arange(1,101)\n",
        "day_pred = np.arange(101,131)"
      ],
      "execution_count": 27,
      "outputs": []
    },
    {
      "cell_type": "code",
      "metadata": {
        "id": "JaDblQ9tTtWz"
      },
      "source": [
        "df3 = data_close.tolist()\n",
        "df3.extend(lst_output)"
      ],
      "execution_count": 28,
      "outputs": []
    },
    {
      "cell_type": "code",
      "metadata": {
        "id": "W1J8sGGITtWz",
        "colab": {
          "base_uri": "https://localhost:8080/"
        },
        "outputId": "c2c30021-04a7-4169-84cb-15131d20c096"
      },
      "source": [
        "len(data_close)"
      ],
      "execution_count": 29,
      "outputs": [
        {
          "output_type": "execute_result",
          "data": {
            "text/plain": [
              "2035"
            ]
          },
          "metadata": {},
          "execution_count": 29
        }
      ]
    },
    {
      "cell_type": "code",
      "metadata": {
        "id": "sp4b0ao-TtWz",
        "colab": {
          "base_uri": "https://localhost:8080/",
          "height": 282
        },
        "outputId": "107bd686-9a38-4adc-852b-c0557e011771"
      },
      "source": [
        "plt.plot(day_new, scaler.inverse_transform(data_close[1935:]))\n",
        "plt.plot(day_pred, scaler.inverse_transform(lst_output))\n"
      ],
      "execution_count": 30,
      "outputs": [
        {
          "output_type": "execute_result",
          "data": {
            "text/plain": [
              "[<matplotlib.lines.Line2D at 0x7f4ac1326cd0>]"
            ]
          },
          "metadata": {},
          "execution_count": 30
        },
        {
          "output_type": "display_data",
          "data": {
            "image/png": "[encoded data removed]",
            "text/plain": [
              "<Figure size 432x288 with 1 Axes>"
            ]
          },
          "metadata": {
            "needs_background": "light"
          }
        }
      ]
    },
    {
      "cell_type": "code",
      "metadata": {
        "id": "amj7hDrGTtWz"
      },
      "source": [
        ""
      ],
      "execution_count": 30,
      "outputs": []
    }
  ]
}